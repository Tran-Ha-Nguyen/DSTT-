{
  "nbformat": 4,
  "nbformat_minor": 0,
  "metadata": {
    "colab": {
      "provenance": []
    },
    "kernelspec": {
      "name": "python3",
      "display_name": "Python 3"
    },
    "language_info": {
      "name": "python"
    }
  },
  "cells": [
    {
      "cell_type": "code",
      "execution_count": 15,
      "metadata": {
        "colab": {
          "base_uri": "https://localhost:8080/"
        },
        "id": "C3cWkdAKGrzn",
        "outputId": "c2f80b18-98f0-4a8b-fd52-c5a5680e5010"
      },
      "outputs": [
        {
          "output_type": "stream",
          "name": "stdout",
          "text": [
            "Câu 1a: A + B = [2 3 1 6]\n",
            "2A + 3B = [ 3 11  2 14]\n",
            "Câu 1b: Tích vô hướng A * B = -5\n",
            "Góc giữa hai vector A và B (độ) ≈ 99.594\n",
            "Câu 1c: C × Cᵗ = [[14 -8 13]\n",
            " [-8 21 -2]\n",
            " [13 -2 29]]\n"
          ]
        }
      ],
      "source": [
        "#Bài 1\n",
        "import numpy as np\n",
        "from numpy import linalg as LA\n",
        "from math import acos, degrees\n",
        "A = np.array([3, -2, 1, 4])\n",
        "B = np.array([-1, 5, 0, 2])\n",
        "#a.Tổng A + B và tích số 2A + 3B\n",
        "tongAB = A + B\n",
        "tichso = 2 * A + 3 * B\n",
        "print(\"Câu 1a: A + B =\", tongAB)\n",
        "print(\"2A + 3B =\", tichso)\n",
        "#b.Tích vô hướng và góc giữa hai vector\n",
        "tichvohuong= np.dot(A, B)\n",
        "norm_A = LA.norm(A)\n",
        "norm_B = LA.norm(B)\n",
        "cos_theta = tichvohuong / (norm_A * norm_B)\n",
        "gocdo = round(degrees(acos(cos_theta)), 3)\n",
        "print(\"Câu 1b: Tích vô hướng A * B =\", tichvohuong)\n",
        "print(\"Góc giữa hai vector A và B (độ) ≈\", gocdo)\n",
        "#c.Tích ma trận C × C^T\n",
        "C = np.array([[2, -1, 3], [1, 4, -2], [0, 2, 5]])\n",
        "tichCCt = C @ C.T\n",
        "print(\"Câu 1c: C × Cᵗ =\", tichCCt)"
      ]
    },
    {
      "cell_type": "code",
      "source": [
        "#Bài 2\n",
        "import numpy as np\n",
        "from numpy import linalg as LA\n",
        "M = np.array([[2, -1, 3, 0], [1, 4, -2, 5], [0, 2, 6, -3], [-1, 0, 1, 4]])\n",
        "N = np.array([[1, 3, -2, 0], [4, -1, 5, 2], [0, 2, 3, -1], [-3, 1, 0, 4]])\n",
        "#a.Tích M×N\n",
        "print(\"Câu 2a: M × N =\", M @ N)\n",
        "#b.Định thức M\n",
        "print(\"Câu 2b: det(M) =\", LA.det(M))\n",
        "#c.Hạng của N\n",
        "print(\"Câu 2c: rank(N) =\", LA.matrix_rank(N))\n"
      ],
      "metadata": {
        "colab": {
          "base_uri": "https://localhost:8080/"
        },
        "id": "AII-_drwGyVm",
        "outputId": "1ffd3176-9f06-44a1-8648-10cc3b7d645d"
      },
      "execution_count": 16,
      "outputs": [
        {
          "output_type": "stream",
          "name": "stdout",
          "text": [
            "Câu 2a: M × N = [[ -2  13   0  -5]\n",
            " [  2   0  12  30]\n",
            " [ 17   7  28 -14]\n",
            " [-13   3   5  15]]\n",
            "Câu 2b: det(M) = 409.00000000000017\n",
            "Câu 2c: rank(N) = 4\n"
          ]
        }
      ]
    },
    {
      "cell_type": "code",
      "source": [
        "#Bài 3\n",
        "import numpy as np\n",
        "from numpy import linalg as LA\n",
        "P = np.array([[3, -1, 0, 2], [1, 4, -2, 0], [0, 1, 5, -1], [2, 0, 1, 3]])\n",
        "b = np.array([6, 8, 3, 7])\n",
        "#a.Tìm ma trận nghịch đảo của P\n",
        "try:\n",
        "    P_inv = LA.inv(P)\n",
        "    print(\"Câu 3a Ma trận nghịch đảo của P:\")\n",
        "    print(np.round(P_inv, 4))\n",
        "except LA.LinAlgError:\n",
        "    print(\"Ma trận P không khả nghịch.\")\n",
        "    P_inv = None\n",
        "#b.Giải hệ phương trình P·x = b\n",
        "if P_inv is not None:\n",
        "    x = P_inv @ b\n",
        "    print(\"Câu 3b Nghiệm x của hệ phương trình P·x = b là:\")\n",
        "    print(np.round(x, 4))\n",
        "else:\n",
        "    print(\"Không thể giải hệ phương trình vì P không khả nghịch.\")\n",
        "    x = None\n",
        "#c.Kiểm tra lại nghiệm\n",
        "if x is not None:\n",
        "    check = P @ x\n",
        "    print(\"Câu 3c Kiểm tra: P·x =\")\n",
        "    print(np.round(check, 4))\n",
        "    print(\"→ So sánh với b =\", b)\n",
        "else:\n",
        "    print(\"Không kiểm tra được nghiệm.\")"
      ],
      "metadata": {
        "colab": {
          "base_uri": "https://localhost:8080/"
        },
        "id": "Zd6WUGrPGyhi",
        "outputId": "94f27d1b-abd3-432c-893e-95681317eb97"
      },
      "execution_count": 17,
      "outputs": [
        {
          "output_type": "stream",
          "name": "stdout",
          "text": [
            "Câu 3a Ma trận nghịch đảo của P:\n",
            "[[ 0.5     0.1     0.1    -0.3   ]\n",
            " [-0.1429  0.2     0.0571  0.1143]\n",
            " [-0.0357 -0.05    0.1643  0.0786]\n",
            " [-0.3214 -0.05   -0.1214  0.5071]]\n",
            "Câu 3b Nghiệm x của hệ phương trình P·x = b là:\n",
            "[2.     1.7143 0.4286 0.8571]\n",
            "Câu 3c Kiểm tra: P·x =\n",
            "[6. 8. 3. 7.]\n",
            "→ So sánh với b = [6 8 3 7]\n"
          ]
        }
      ]
    },
    {
      "cell_type": "code",
      "source": [
        "#Bài 4\n",
        "Q = np.array([[5, -2, 1], [0, 3, -1], [2, 0, 4]])\n",
        "#a.Giá trị riêng\n",
        "eigvals, eigvecs = LA.eig(Q)\n",
        "print(\"Câu 4a: Giá trị riêng =\", np.round(eigvals, 4))\n",
        "#b.Vector riêng\n",
        "print(\"Câu 4b: Vector riêng =\", np.round(eigvecs, 4))\n",
        "#c.Chuẩn hóa vector riêng\n",
        "normed_vecs = np.array([v / LA.norm(v) for v in eigvecs.T]).T\n",
        "print(\"Câu 4c: Vector riêng đã chuẩn hóa =\", np.round(normed_vecs, 4))\n"
      ],
      "metadata": {
        "colab": {
          "base_uri": "https://localhost:8080/"
        },
        "id": "c-rAUjWRGyjp",
        "outputId": "e944199b-c1d3-4fa4-e2a9-52b816d75075"
      },
      "execution_count": 23,
      "outputs": [
        {
          "output_type": "stream",
          "name": "stdout",
          "text": [
            "Câu 4a: Giá trị riêng = [6.3553+0.j     2.8223+1.0773j 2.8223-1.0773j]\n",
            "Câu 4b: Vector riêng = [[ 0.7485+0.j     -0.3742+0.3423j -0.3742-0.3423j]\n",
            " [-0.1894+0.j      0.0947+0.5743j  0.0947-0.5743j]\n",
            " [ 0.6356+0.j      0.6356+0.j      0.6356-0.j    ]]\n",
            "Câu 4c: Vector riêng đã chuẩn hóa = [[ 0.7485+0.j     -0.3742+0.3423j -0.3742-0.3423j]\n",
            " [-0.1894+0.j      0.0947+0.5743j  0.0947-0.5743j]\n",
            " [ 0.6356+0.j      0.6356+0.j      0.6356-0.j    ]]\n"
          ]
        }
      ]
    },
    {
      "cell_type": "code",
      "source": [
        "#Bài 5\n",
        "R = np.array([[4, -1, 2], [1, 3, -2], [0, 2, 5]])\n",
        "b = np.array([12, 5, 9])\n",
        "#a.Giải hệ Rx = b\n",
        "x = LA.solve(R, b)\n",
        "print(\"Câu 5a: Nghiệm x =\", np.round(x, 4))\n",
        "#b.Kiểm tra nghịch đảo và giải lại\n",
        "if np.isclose(LA.det(R), 0):\n",
        "    print(\"Ma trận R không khả nghịch\")\n",
        "else:\n",
        "    R_inv = LA.inv(R)\n",
        "    x2 = R_inv @ b\n",
        "    print(\"Câu 5b: Nghịch đảo R =\", np.round(R_inv, 4))\n",
        "    print(\"Giải lại: x = \", np.round(x2, 4))\n",
        "#c.Chuẩn Frobenius\n",
        "fro_norm = LA.norm(R, ord='fro')\n",
        "print(\"Câu 5c: Chuẩn Frobenius của R =\", round(fro_norm, 4))"
      ],
      "metadata": {
        "colab": {
          "base_uri": "https://localhost:8080/"
        },
        "id": "QtCMqCRHGykx",
        "outputId": "47809028-a179-460d-e696-2b49b2d09eb7"
      },
      "execution_count": 24,
      "outputs": [
        {
          "output_type": "stream",
          "name": "stdout",
          "text": [
            "Câu 5a: Nghiệm x = [2.7882 1.5294 1.1882]\n",
            "Câu 5b: Nghịch đảo R = [[ 0.2235  0.1059 -0.0471]\n",
            " [-0.0588  0.2353  0.1176]\n",
            " [ 0.0235 -0.0941  0.1529]]\n",
            "Giải lại: x =  [2.7882 1.5294 1.1882]\n",
            "Câu 5c: Chuẩn Frobenius của R = 8.0\n"
          ]
        }
      ]
    }
  ]
}