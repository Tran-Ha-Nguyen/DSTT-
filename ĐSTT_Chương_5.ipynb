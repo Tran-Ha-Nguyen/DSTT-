{
  "nbformat": 4,
  "nbformat_minor": 0,
  "metadata": {
    "colab": {
      "provenance": []
    },
    "kernelspec": {
      "name": "python3",
      "display_name": "Python 3"
    },
    "language_info": {
      "name": "python"
    }
  },
  "cells": [
    {
      "cell_type": "code",
      "execution_count": null,
      "metadata": {
        "colab": {
          "base_uri": "https://localhost:8080/"
        },
        "id": "xPdiZNGgYaDJ",
        "outputId": "55eeb621-cdab-4e7f-f4e5-18b68c536a06"
      },
      "outputs": [
        {
          "output_type": "stream",
          "name": "stdout",
          "text": [
            "[[1 2]\n",
            " [3 4]]\n"
          ]
        }
      ],
      "source": [
        "#Bài 1\n",
        "import numpy as np\n",
        "D = np.array([[1, 2], [3, 4]])\n",
        "E = np.array([[1, 2], [3, 5]])\n",
        "np.copyto(E, D)\n",
        "print(E)"
      ]
    },
    {
      "cell_type": "code",
      "source": [
        "#Bài 2\n",
        "import numpy as np\n",
        "x = np.array([['a', 'b'], ['c', 'd']])\n",
        "y = 'x'\n",
        "C = np.array([[x, y], [1, 2]], dtype=object)\n",
        "print(C)"
      ],
      "metadata": {
        "colab": {
          "base_uri": "https://localhost:8080/"
        },
        "id": "nC7731VUZDYv",
        "outputId": "24b66564-5665-434b-ced9-fa0d5114dfe1"
      },
      "execution_count": null,
      "outputs": [
        {
          "output_type": "stream",
          "name": "stdout",
          "text": [
            "[[array([['a', 'b'],\n",
            "         ['c', 'd']], dtype='<U1') 'x']\n",
            " [1 2]]\n"
          ]
        }
      ]
    },
    {
      "cell_type": "code",
      "source": [
        "#Bài 3\n",
        "import numpy as np\n",
        "A = np.array([[[1, 2], [3, 4]], [[5, 6], [7, 8]]])\n",
        "print(A)"
      ],
      "metadata": {
        "colab": {
          "base_uri": "https://localhost:8080/"
        },
        "id": "tOtlEaq1ZD62",
        "outputId": "4d3e5167-209a-4dba-d306-ae77d4b8be05"
      },
      "execution_count": null,
      "outputs": [
        {
          "output_type": "stream",
          "name": "stdout",
          "text": [
            "[[[1 2]\n",
            "  [3 4]]\n",
            "\n",
            " [[5 6]\n",
            "  [7 8]]]\n"
          ]
        }
      ]
    },
    {
      "cell_type": "code",
      "source": [
        "#Bài 4\n",
        "from numpy import matlib\n",
        "G = matlib.identity(5)\n",
        "print(\"G =\")\n",
        "print(G)\n",
        "\n",
        "H = matlib.randn(3, 2)\n",
        "print(\"\\nH =\")\n",
        "print(H)\n",
        "\n",
        "K = matlib.zeros([4, 4])\n",
        "print(\"\\nK =\")\n",
        "print(K)\n"
      ],
      "metadata": {
        "colab": {
          "base_uri": "https://localhost:8080/"
        },
        "id": "euMNJo2SZEPX",
        "outputId": "72882c23-f1b2-483f-e66d-a6983306b274"
      },
      "execution_count": null,
      "outputs": [
        {
          "output_type": "stream",
          "name": "stdout",
          "text": [
            "G =\n",
            "[[1. 0. 0. 0. 0.]\n",
            " [0. 1. 0. 0. 0.]\n",
            " [0. 0. 1. 0. 0.]\n",
            " [0. 0. 0. 1. 0.]\n",
            " [0. 0. 0. 0. 1.]]\n",
            "\n",
            "H =\n",
            "[[-1.21761023  0.6820826 ]\n",
            " [ 1.21068825  0.83709636]\n",
            " [ 0.75692768 -0.16326012]]\n",
            "\n",
            "K =\n",
            "[[0. 0. 0. 0.]\n",
            " [0. 0. 0. 0.]\n",
            " [0. 0. 0. 0.]\n",
            " [0. 0. 0. 0.]]\n"
          ]
        }
      ]
    },
    {
      "cell_type": "code",
      "source": [
        "#Bài 5\n",
        "import numpy as np\n",
        "\n",
        "c = [3, 7, 15, 1, 292, 1, 1, 1, 2, 1, 3, 1, 14, 2]\n",
        "\n",
        "M = np.asmatrix([[1, 2], [3, 4]])\n",
        "\n",
        "for i in range(len(c)):\n",
        "    ci = np.asmatrix([[1, 1], [1, 0]])\n",
        "    ci[0, 0] = c[i]\n",
        "\n",
        "    if i == 0:\n",
        "        M = ci\n",
        "    else:\n",
        "        M = M.dot(ci)\n",
        "\n",
        "print(M)\n",
        "\n",
        "# Tính và in kết quả phân số\n",
        "print(M[0, 0] / M[1, 0])"
      ],
      "metadata": {
        "colab": {
          "base_uri": "https://localhost:8080/"
        },
        "id": "xAHROxgWZElH",
        "outputId": "15e190df-2fab-402d-c777-08ef94acf8ee"
      },
      "execution_count": null,
      "outputs": [
        {
          "output_type": "stream",
          "name": "stdout",
          "text": [
            "[[165707065  80143857]\n",
            " [ 52746197  25510582]]\n",
            "3.1415926535897936\n"
          ]
        }
      ]
    }
  ]
}