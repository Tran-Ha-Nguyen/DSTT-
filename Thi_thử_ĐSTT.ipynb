{
  "nbformat": 4,
  "nbformat_minor": 0,
  "metadata": {
    "colab": {
      "provenance": []
    },
    "kernelspec": {
      "name": "python3",
      "display_name": "Python 3"
    },
    "language_info": {
      "name": "python"
    }
  },
  "cells": [
    {
      "cell_type": "code",
      "execution_count": 9,
      "metadata": {
        "colab": {
          "base_uri": "https://localhost:8080/"
        },
        "id": "Ow3OfGyxDFAD",
        "outputId": "1abe4214-b45b-48bf-ec66-8df29e009e6d"
      },
      "outputs": [
        {
          "output_type": "stream",
          "name": "stdout",
          "text": [
            "Câu 1a: [3 3 1 5] [  4 -11  13 -10]\n",
            "Câu 1b: dot =  -8 , góc =  108.376 độ\n",
            "Câu 1c: [[ 5  0 -1]\n",
            " [ 0 14 10]\n",
            " [-1 10 17]]\n"
          ]
        }
      ],
      "source": [
        "#Câu 1\n",
        "import numpy as np\n",
        "from numpy import dot, arccos, degrees\n",
        "from numpy.linalg import norm\n",
        "A = np.array([2, -1, 3, 0])\n",
        "B = np.array([1, 4, -2, 5])\n",
        "C = np.array([[1, 2, -1], [0, 3, 4], [2, -1, 0]])\n",
        "#a\n",
        "tong = A + B\n",
        "tichso = 3*A - 2*B\n",
        "#b\n",
        "tichvohuong = dot(A,B)\n",
        "gocgiua = arccos(tichvohuong / (norm(A) * norm(B)))\n",
        "goc2vecto = round(degrees(gocgiua), 3)\n",
        "#c\n",
        "tichmatran = C.T @ C\n",
        "print(\"Câu 1a:\", tong, tichso)\n",
        "print(\"Câu 1b: dot = \", tichvohuong, \", góc = \", goc2vecto, \"độ\")\n",
        "print(\"Câu 1c:\", tichmatran)"
      ]
    },
    {
      "cell_type": "code",
      "source": [
        "#Câu 2\n",
        "import numpy as np\n",
        "from numpy.linalg import det, matrix_rank\n",
        "M = np.array([[1, 2, 3, 0], [4, 5, 6, 1], [7, 8, 9, 2], [0, 1, 1, 0]])\n",
        "N = np.array([[0, 1, 2, 3], [4, 5, 6, 7], [8, 9, 10, 11], [12, 13, 14, 15]])\n",
        "#a\n",
        "tich = M * N\n",
        "#b\n",
        "det_M = det(M)\n",
        "#c\n",
        "rank_N = matrix_rank(N)\n",
        "print(\"Câu 2a: \", tich)\n",
        "print(\"Câu 2b: \", det_M)\n",
        "print(\"Câu 2c: \", rank_N)"
      ],
      "metadata": {
        "colab": {
          "base_uri": "https://localhost:8080/"
        },
        "id": "7zBnEHOIDG2A",
        "outputId": "cba73397-1a49-4db3-ff1f-3037e66a5819"
      },
      "execution_count": 6,
      "outputs": [
        {
          "output_type": "stream",
          "name": "stdout",
          "text": [
            "Câu 2a:  [[ 0  2  6  0]\n",
            " [16 25 36  7]\n",
            " [56 72 90 22]\n",
            " [ 0 13 14  0]]\n",
            "Câu 2b:  6.66133814775094e-16\n",
            "Câu 2c:  2\n"
          ]
        }
      ]
    },
    {
      "cell_type": "code",
      "source": [
        "#câu 3\n",
        "import numpy as np\n",
        "from numpy.linalg import inv\n",
        "P = np.array([[2, 1, 0, 1], [0, 3, 1, -1], [1, 0, 4, 2], [0, 1, 0, 3]])\n",
        "T_vec = np.array([4, 7, 9, 5])\n",
        "#a\n",
        "try:\n",
        "    P_inv = inv(P)\n",
        "    invertible = True\n",
        "except np.linalg.LinAlgError:\n",
        "    P_inv = None\n",
        "    invertible = False\n",
        "#b\n",
        "x_solution = P_inv @ T_vec if invertible else None\n",
        "#c\n",
        "ktra = P @ x_solution if x_solution is not None else None\n",
        "print(\"Câu 3a: nghịch đảo tồn tại =\", invertible)\n",
        "print(\"Câu 3b: nghiệm =\", x_solution)\n",
        "print(\"Câu 3c: kiểm tra =\", ktra)"
      ],
      "metadata": {
        "colab": {
          "base_uri": "https://localhost:8080/"
        },
        "id": "lHCNRgocDG97",
        "outputId": "7199f18b-6f63-4598-f9f5-faf9c34040d6"
      },
      "execution_count": 10,
      "outputs": [
        {
          "output_type": "stream",
          "name": "stdout",
          "text": [
            "Câu 3a: nghịch đảo tồn tại = True\n",
            "Câu 3b: nghiệm = [0.46511628 2.10465116 1.65116279 0.96511628]\n",
            "Câu 3c: kiểm tra = [4. 7. 9. 5.]\n"
          ]
        }
      ]
    },
    {
      "cell_type": "code",
      "source": [
        "#Câu 4\n",
        "import numpy as np\n",
        "from numpy.linalg import norm\n",
        "\n",
        "Q = np.array([[4, -1, 0],\n",
        "              [1, 3, -2],\n",
        "              [0, 1, 2]])\n",
        "#a,b\n",
        "gtri, gtririeng = np.linalg.eig(Q)\n",
        "#c\n",
        "vectorieng = np.array([vec / norm(vec) for vec in gtririeng.T])\n",
        "\n",
        "print(\"Câu 4a: giá trị riêng =\", gtri)\n",
        "print(\"Câu 4b: vector riêng =\\n\", gtririeng)\n",
        "print(\"Câu 4c: vector riêng chuẩn hóa =\\n\", vectorieng)"
      ],
      "metadata": {
        "colab": {
          "base_uri": "https://localhost:8080/"
        },
        "id": "89IkajMVDHA_",
        "outputId": "77d169fa-021f-4234-fd57-e6a5e079aa03"
      },
      "execution_count": 11,
      "outputs": [
        {
          "output_type": "stream",
          "name": "stdout",
          "text": [
            "Câu 4a: giá trị riêng = [3.45339765+0.j         2.77330117+1.46771151j 2.77330117-1.46771151j]\n",
            "Câu 4b: vector riêng =\n",
            " [[ 0.83327121+0.j         -0.26206044-0.31354813j -0.26206044+0.31354813j]\n",
            " [ 0.455468  +0.j         -0.78166743+0.j         -0.78166743-0.j        ]\n",
            " [ 0.31338154+0.j         -0.21963176+0.41685708j -0.21963176-0.41685708j]]\n",
            "Câu 4c: vector riêng chuẩn hóa =\n",
            " [[ 0.83327121+0.j          0.455468  +0.j          0.31338154+0.j        ]\n",
            " [-0.26206044-0.31354813j -0.78166743+0.j         -0.21963176+0.41685708j]\n",
            " [-0.26206044+0.31354813j -0.78166743+0.j         -0.21963176-0.41685708j]]\n"
          ]
        }
      ]
    },
    {
      "cell_type": "code",
      "source": [
        "#Câu 5\n",
        "import numpy as np\n",
        "from numpy.linalg import inv, det\n",
        "\n",
        "R = np.array([[1, -2, 3], [2, 0, 1], [-1, 1, 4]])\n",
        "V = np.array([10, 8, 7])\n",
        "\n",
        "x5 = np.linalg.solve(R, V)\n",
        "R_inv = inv(R) if det(R) != 0 else None\n",
        "x5_by_inv = R_inv @ V if R_inv is not None else None\n",
        "frobenius_norm = np.linalg.norm(R, ord='fro')\n",
        "\n",
        "print(\"Câu 5a: nghiệm =\", x5)\n",
        "print(\"Câu 5b: nghiệm qua nghịch đảo =\", x5_by_inv)\n",
        "print(\"Câu 5c: Frobenius norm =\", frobenius_norm)\n"
      ],
      "metadata": {
        "colab": {
          "base_uri": "https://localhost:8080/"
        },
        "id": "0_Fn6xogDHEA",
        "outputId": "fdcf9352-35fa-48cb-d5a2-26063538d89c"
      },
      "execution_count": 12,
      "outputs": [
        {
          "output_type": "stream",
          "name": "stdout",
          "text": [
            "Câu 5a: nghiệm = [2.7826087  0.04347826 2.43478261]\n",
            "Câu 5b: nghiệm qua nghịch đảo = [2.7826087  0.04347826 2.43478261]\n",
            "Câu 5c: Frobenius norm = 6.082762530298219\n"
          ]
        }
      ]
    }
  ]
}